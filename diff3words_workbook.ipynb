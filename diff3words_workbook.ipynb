{
 "cells": [
  {
   "cell_type": "markdown",
   "id": "e28258d9",
   "metadata": {},
   "source": [
    "# diff3words\n",
    "\n",
    "a navigation algorithm for what3words based on Levenshtein edit distance\n",
    "\n",
    "Final Project for Locative Media (NWMEDIA205) at UC Berkeley Fall 2021\n",
    "\n",
    "created by Chirasree Mandal, December 13, 2021"
   ]
  },
  {
   "cell_type": "markdown",
   "id": "fea47347",
   "metadata": {},
   "source": [
    "## Algorithm Sketch\n",
    "\n",
    "1. Calculate the string edit distance between 2 what3words addresses, `src` and `dest`. Keep track of the insertions/deletions/substitions made at each step and store in an ordered array of strings `steps`.\n",
    "2. Initalize an empty array `data`\n",
    "3. For each string in `steps`, determine if it is a valid what3words address. If it is, append it to in `data`\n",
    "4. Translate each address in `data` to a `(lat, long)` pair using the what3words API\n",
    "5. Plot each step in `data` on a map. \n",
    "5. Plot the route from `src` to `dest` using addresses in `data` on a map"
   ]
  },
  {
   "cell_type": "code",
   "execution_count": 51,
   "id": "dcafc41d",
   "metadata": {},
   "outputs": [],
   "source": [
    "import pandas as pd\n",
    "import editdistance\n",
    "import what3words \n",
    "import folium\n",
    "import json\n",
    "from geopy import distance"
   ]
  },
  {
   "cell_type": "code",
   "execution_count": 52,
   "id": "ebcfb5d7",
   "metadata": {},
   "outputs": [],
   "source": [
    "# Read in what3words API key\n",
    "f = open('keys.json')\n",
    "api_key = json.load(f)[\"api_key\"]\n",
    "f.close()"
   ]
  },
  {
   "cell_type": "code",
   "execution_count": 53,
   "id": "5c8562d5",
   "metadata": {},
   "outputs": [],
   "source": [
    "# Set up color constants\n",
    "w3w_red = \"#CF3732\"\n",
    "dark_blue = \"#0072BB\"\n",
    "yellow = \"#e4cc37\"\n",
    "lt_blue = \"#1e91d6\"\n",
    "green = \"#8fc93a\""
   ]
  },
  {
   "cell_type": "markdown",
   "id": "b65b81a1",
   "metadata": {},
   "source": [
    "To convert 3 word addresses to coordinates, we'll be using the [what3words python API](https://developer.what3words.com/tutorial/python)"
   ]
  },
  {
   "cell_type": "code",
   "execution_count": 54,
   "id": "fc7af8e8",
   "metadata": {},
   "outputs": [],
   "source": [
    "# Set up what3words geocoder for API calls\n",
    "geocoder = what3words.Geocoder(api_key)"
   ]
  },
  {
   "cell_type": "code",
   "execution_count": 55,
   "id": "8b190127",
   "metadata": {},
   "outputs": [],
   "source": [
    "# Set up algorithm\n",
    "def edit_distance_map(steps):\n",
    "    \"\"\"Generates a folium Map object that shows the path between src, dest using strings from steps that are valid\n",
    "        what3words addresses.\n",
    "    Inputs: \n",
    "        steps (array of strings): \n",
    "            - ordered array of strings that are the institial string transformations from the edit distance calculation from src to dest. \n",
    "            - Assumes steps[0] == src, steps[-1] == dest\n",
    "            - Assumes steps[0] and steps[-1] are valid what3words addresses, but the interstitial steps may or may not be.\n",
    "    Returns:\n",
    "        m (folium.Map)\n",
    "        df (pandas.DataFrame) contains each step\n",
    "        \"\"\"\n",
    "    # We need at least a source and destination\n",
    "    if len(steps) < 2:\n",
    "        print(\"Please input at least 2 steps.\")\n",
    "        return None\n",
    "    data = []\n",
    "    # data will contain sub-arrays of [code (str), lat (float), long (float), nearestPlace (str), w3w url (str)]\n",
    "    for i in steps:\n",
    "        res = geocoder.convert_to_coordinates(i)\n",
    "        # if API result non-null\n",
    "        if res.get(\"country\"): \n",
    "            lat = res.get(\"coordinates\").get(\"lat\")\n",
    "            long = res.get(\"coordinates\").get(\"lng\")\n",
    "            np = res.get(\"nearestPlace\")\n",
    "            url = res.get(\"map\")\n",
    "            data_point = [i, lat, long, np, url]\n",
    "            data.append(data_point)\n",
    "    \n",
    "    # return early if we don't have a valid start and end point\n",
    "    if len(data) < 2:\n",
    "        print(\"Please specify a valid src and dest what3words code\")\n",
    "        return None    \n",
    "    src = data[0][0]\n",
    "    dest = data[-1][0]\n",
    "            \n",
    "    total_steps = len(data) - 1\n",
    "    src_lat_long = (data[0][1], data[0][2])\n",
    "    dest_lat_long = (data[total_steps][1], data[total_steps][2])\n",
    "    \n",
    "    # print information on distances\n",
    "    \n",
    "    print(\"Source: ///{0}, lat: {1}, long: {2}, near {3}\".format(src, src_lat_long[0], src_lat_long[1], data[0][3]))\n",
    "    print(\"Dest: ///{0}, lat: {1}, long: {2}, near {3}\".format(dest, dest_lat_long[0], dest_lat_long[1], data[total_steps][3]))\n",
    "    print(\"Geodesic Distance: {:,.2f} miles\".format(distance.distance(src_lat_long, dest_lat_long).miles))\n",
    "    print(\"Levenshtein Edit Distance: {}\".format(editdistance.eval(src, dest)))\n",
    "\n",
    "    # create a dataframe to organize step data\n",
    "    df = pd.DataFrame(data, columns = [\"words\", \"lat\", \"long\", \"nearestPlace\", \"url\"])\n",
    "    # get the average lat/long to center the map\n",
    "    df_avg = df.mean().values\n",
    "    save_df = df\n",
    "\n",
    "    #create a folium map\n",
    "    m = folium.Map(location=df_avg, zoom_start=2, tiles=\"Stamen Toner\")\n",
    "    \n",
    "    # draw a Polyline path between src and dest using all of the points\n",
    "    # https://deparkes.co.uk/2016/06/03/plot-lines-in-folium/\n",
    "    \n",
    "    points = df[[\"lat\", \"long\"]].to_numpy()\n",
    "    folium.PolyLine(points, color=w3w_red, opacity=0.7).add_to(m)\n",
    "    \n",
    "    # add a marker for each step, add its what3words link using popups\n",
    "    for index, row in df.iterrows():\n",
    "        name = row[\"words\"]\n",
    "        url = row[\"url\"]\n",
    "        if name == src:\n",
    "            colors = dark_blue\n",
    "        elif name == dest:\n",
    "            colors = yellow\n",
    "        else:\n",
    "            colors = w3w_red\n",
    "        folium.RegularPolygonMarker(location=[row[\"lat\"], row[\"long\"]], number_of_sides=4, rotation=45, radius=5, \n",
    "                                popup=\"Step {2}/{3} <a href={0}>///{1}</a>\".format(url, name, index, total_steps), \n",
    "                                tooltip=None, color=colors, fill_color=colors, opacity=1.0).add_to(m)\n",
    "    return m, df"
   ]
  },
  {
   "cell_type": "markdown",
   "id": "bc7878dc",
   "metadata": {},
   "source": [
    "## First Example\n",
    "\n",
    "Source: `///clip.apples.leaps` \n",
    "\n",
    "Dest: `///dips.glue.fret`\n"
   ]
  },
  {
   "cell_type": "code",
   "execution_count": 56,
   "id": "0dc79a24",
   "metadata": {},
   "outputs": [],
   "source": [
    "ex1_source = \"clip.apples.leaps\"\n",
    "ex1_dest = \"dips.glue.fret\""
   ]
  },
  {
   "cell_type": "code",
   "execution_count": 57,
   "id": "5de51d04",
   "metadata": {},
   "outputs": [],
   "source": [
    "# Steps\n",
    "# https://phiresky.github.io/levenshtein-demo/\n",
    "steps = [ex1_source, \n",
    "\"dlip.apples.leaps\",\n",
    "\"dip.apples.leaps\",\n",
    "\"dips.apples.leaps\",\n",
    "\"dips.gpples.leaps\",\n",
    "\"dips.glples.leaps\",\n",
    "\"dips.glules.leaps\",\n",
    "\"dips.glues.leaps\",\n",
    "\"dips.glue.leaps\",\n",
    "\"dips.glue.feaps\",\n",
    "\"dips.glue.freaps\",\n",
    "\"dips.glue.fretps\",\n",
    "\"dips.glue.frets\",\n",
    "ex1_dest]"
   ]
  },
  {
   "cell_type": "code",
   "execution_count": null,
   "id": "e386211a",
   "metadata": {
    "scrolled": true
   },
   "outputs": [],
   "source": [
    "ex1_map, ex1_df = edit_distance_map(steps)\n",
    "ex1_map"
   ]
  },
  {
   "cell_type": "code",
   "execution_count": null,
   "id": "550860d9",
   "metadata": {},
   "outputs": [],
   "source": [
    "ex1_df"
   ]
  },
  {
   "cell_type": "code",
   "execution_count": null,
   "id": "5739f2e6",
   "metadata": {},
   "outputs": [],
   "source": [
    "#ex1_map.save(\"clip-apples-leap-stamen-toner-map.html\")"
   ]
  },
  {
   "cell_type": "markdown",
   "id": "c8cb6f46",
   "metadata": {},
   "source": [
    "## Example 2 -- Nearby Squares\n",
    "\n",
    " `///desks.fish.sleepy` to `///gets.packet.text`"
   ]
  },
  {
   "cell_type": "code",
   "execution_count": null,
   "id": "7200eb25",
   "metadata": {},
   "outputs": [],
   "source": [
    "moffitt_library = \"gets.packet.text\"\n",
    "mccone_hall = \"desks.fish.sleepy\"\n",
    "\n",
    "steps2 = [mccone_hall, \n",
    "\"gesks.fish.sleepy\",\n",
    "\"getks.fish.sleepy\",\n",
    "\"gets.fish.sleepy\",\n",
    "\"gets.pish.sleepy\",\n",
    "\"gets.pash.sleepy\",\n",
    "\"gets.pach.sleepy\",\n",
    "\"gets.pack.sleepy\",\n",
    "\"gets.packesleepy\",\n",
    "\"gets.packetleepy\",\n",
    "\"gets.packet.eepy\",\n",
    "\"gets.packet.tepy\",\n",
    "\"gets.packet.texy\",\n",
    "moffitt_library]"
   ]
  },
  {
   "cell_type": "code",
   "execution_count": null,
   "id": "7f572f0e",
   "metadata": {
    "scrolled": true
   },
   "outputs": [],
   "source": [
    "m2, df2 = edit_distance_map(steps2)\n",
    "m2"
   ]
  },
  {
   "cell_type": "code",
   "execution_count": null,
   "id": "1c308fb5",
   "metadata": {},
   "outputs": [],
   "source": [
    "#m2.save(\"mccone-moffitt.html\")"
   ]
  },
  {
   "cell_type": "code",
   "execution_count": null,
   "id": "1985ebdc",
   "metadata": {},
   "outputs": [],
   "source": []
  }
 ],
 "metadata": {
  "kernelspec": {
   "display_name": "Python 3",
   "language": "python",
   "name": "python3"
  },
  "language_info": {
   "codemirror_mode": {
    "name": "ipython",
    "version": 3
   },
   "file_extension": ".py",
   "mimetype": "text/x-python",
   "name": "python",
   "nbconvert_exporter": "python",
   "pygments_lexer": "ipython3",
   "version": "3.7.3"
  }
 },
 "nbformat": 4,
 "nbformat_minor": 5
}
