{
 "cells": [
  {
   "cell_type": "markdown",
   "id": "e28258d9",
   "metadata": {},
   "source": [
    "# diff3words\n",
    "\n",
    "a navigation algorithm for what3words based on Levenshtein edit distance\n",
    "\n",
    "Final Project for Locative Media (NWMEDIA205) at UC Berkeley Fall 2021\n",
    "\n",
    "created by Chirasree Mandal, December 13, 2021"
   ]
  },
  {
   "cell_type": "markdown",
   "id": "a0708b0d",
   "metadata": {},
   "source": [
    "## Algorithm Sketch\n",
    "\n",
    "1. Calculate the string edit distance between 2 what3words addresses, `src` and `dest`. Keep track of the insertions/deletions/substitutions made at each step and store in an ordered array of strings `steps`.\n",
    "    - For this step, I used this [edit distance calculator](https://phiresky.github.io/levenshtein-demo/)\n",
    "2. Initialize an empty array `valid_steps`\n",
    "3. For each string in `steps`, determine if it is a valid what3words address. If it is, append it to `valid_steps`\n",
    "4. Translate each address in `valid_steps` to a `(lat, long)` pair using the what3words API\n",
    "5. Plot each step in `valid_steps` on a map. \n",
    "5. Plot the route from `src` to `dest` using addresses in `valid_steps` on a map"
   ]
  },
  {
   "cell_type": "code",
   "execution_count": 1,
   "id": "dcafc41d",
   "metadata": {},
   "outputs": [],
   "source": [
    "import pandas as pd\n",
    "import editdistance\n",
    "import what3words \n",
    "import folium\n",
    "import json\n",
    "from geopy import distance"
   ]
  },
  {
   "cell_type": "code",
   "execution_count": 2,
   "id": "ebcfb5d7",
   "metadata": {},
   "outputs": [],
   "source": [
    "# Read in what3words API key\n",
    "f = open('keys.json')\n",
    "api_key = json.load(f)[\"api_key\"]\n",
    "f.close()"
   ]
  },
  {
   "cell_type": "code",
   "execution_count": 3,
   "id": "5c8562d5",
   "metadata": {},
   "outputs": [],
   "source": [
    "# Set up color constants\n",
    "w3w_red = \"#CF3732\"\n",
    "dark_blue = \"#0072BB\"\n",
    "yellow = \"#e4cc37\"\n",
    "lt_blue = \"#1e91d6\"\n",
    "green = \"#8fc93a\""
   ]
  },
  {
   "cell_type": "markdown",
   "id": "027abb4f",
   "metadata": {},
   "source": [
    "To convert 3 word addresses to coordinates, we'll be using the [what3words python API](https://developer.what3words.com/tutorial/python)"
   ]
  },
  {
   "cell_type": "code",
   "execution_count": 4,
   "id": "fc7af8e8",
   "metadata": {},
   "outputs": [],
   "source": [
    "# Set up what3words geocoder for API calls\n",
    "geocoder = what3words.Geocoder(api_key)"
   ]
  },
  {
   "cell_type": "code",
   "execution_count": 5,
   "id": "8b190127",
   "metadata": {},
   "outputs": [],
   "source": [
    "# Set up algorithm\n",
    "def edit_distance_map(steps):\n",
    "    \"\"\"Generates a folium Map object that shows the path between src, dest using strings from steps that are valid\n",
    "        what3words addresses.\n",
    "    Inputs: \n",
    "        steps (array of strings): \n",
    "            - ordered array of strings that are the institial string transformations from the edit distance calculation from src to dest. \n",
    "            - Assumes steps[0] == src, steps[-1] == dest\n",
    "            - Assumes steps[0] and steps[-1] are valid what3words addresses, but the interstitial steps may or may not be.\n",
    "    Returns:\n",
    "        m (folium.Map)\n",
    "        df (pandas.DataFrame) contains each step\n",
    "        \"\"\"\n",
    "    # We need at least a source and destination\n",
    "    if len(steps) < 2:\n",
    "        print(\"Please input at least 2 steps.\")\n",
    "        return None\n",
    "    valid_steps = []\n",
    "    # valid_steps will contain sub-arrays of [code (str), lat (float), long (float), nearestPlace (str), w3w url (str)]\n",
    "    for i in steps:\n",
    "        res = geocoder.convert_to_coordinates(i)\n",
    "        # if API result non-null\n",
    "        if res.get(\"country\"): \n",
    "            lat = res.get(\"coordinates\").get(\"lat\")\n",
    "            long = res.get(\"coordinates\").get(\"lng\")\n",
    "            np = res.get(\"nearestPlace\")\n",
    "            url = res.get(\"map\")\n",
    "            data_point = [i, lat, long, np, url]\n",
    "            valid_steps.append(data_point)\n",
    "    \n",
    "    # return early if we don't have a valid start and end point\n",
    "    if len(valid_steps) < 2:\n",
    "        print(\"Please specify a valid src and dest what3words code\")\n",
    "        return None    \n",
    "    src = valid_steps[0][0]\n",
    "    dest = valid_steps[-1][0]\n",
    "            \n",
    "    total_steps = len(valid_steps) - 1\n",
    "    src_lat_long = (valid_steps[0][1], valid_steps[0][2])\n",
    "    dest_lat_long = (valid_steps[total_steps][1], valid_steps[total_steps][2])\n",
    "    \n",
    "    # print information on distances\n",
    "    \n",
    "    print(\"Source: ///{0}, lat: {1}, long: {2}, near {3}\".format(src, src_lat_long[0], src_lat_long[1], valid_steps[0][3]))\n",
    "    print(\"Dest: ///{0}, lat: {1}, long: {2}, near {3}\".format(dest, dest_lat_long[0], dest_lat_long[1], valid_steps[total_steps][3]))\n",
    "    print(\"Geodesic Distance: {:,.2f} miles\".format(distance.distance(src_lat_long, dest_lat_long).miles))\n",
    "    print(\"Levenshtein Edit Distance: {}\".format(editdistance.eval(src, dest)))\n",
    "\n",
    "    # create a dataframe to organize step data\n",
    "    df = pd.DataFrame(valid_steps, columns = [\"words\", \"lat\", \"long\", \"nearestPlace\", \"url\"])\n",
    "    # get the average lat/long to center the map\n",
    "    df_avg = df.mean().values\n",
    "    save_df = df\n",
    "\n",
    "    #create a folium map\n",
    "    m = folium.Map(location=df_avg, zoom_start=2, tiles=\"Stamen Toner\")\n",
    "    \n",
    "    # draw a Polyline path between src and dest using all of the points\n",
    "    # https://deparkes.co.uk/2016/06/03/plot-lines-in-folium/\n",
    "    \n",
    "    points = df[[\"lat\", \"long\"]].to_numpy()\n",
    "    folium.PolyLine(points, color=w3w_red, opacity=0.7).add_to(m)\n",
    "    \n",
    "    # add a marker for each step, add its what3words link using popups\n",
    "    for index, row in df.iterrows():\n",
    "        name = row[\"words\"]\n",
    "        url = row[\"url\"]\n",
    "        if name == src:\n",
    "            colors = dark_blue\n",
    "        elif name == dest:\n",
    "            colors = yellow\n",
    "        else:\n",
    "            colors = w3w_red\n",
    "        folium.RegularPolygonMarker(location=[row[\"lat\"], row[\"long\"]], number_of_sides=4, rotation=45, radius=5, \n",
    "                                popup=\"Step {2}/{3} <a href={0}>///{1}</a>\".format(url, name, index, total_steps), \n",
    "                                tooltip=None, color=colors, fill_color=colors, opacity=1.0).add_to(m)\n",
    "    return m, df"
   ]
  },
  {
   "cell_type": "markdown",
   "id": "bc7878dc",
   "metadata": {},
   "source": [
    "## First Example\n",
    "\n",
    "Source: `///clip.apples.leaps` \n",
    "\n",
    "Dest: `///dips.glue.fret`\n"
   ]
  },
  {
   "cell_type": "code",
   "execution_count": 6,
   "id": "15c90b9a",
   "metadata": {},
   "outputs": [],
   "source": [
    "ex1_source = \"clip.apples.leaps\"\n",
    "ex1_dest = \"dips.glue.fret\""
   ]
  },
  {
   "cell_type": "code",
   "execution_count": 7,
   "id": "5de51d04",
   "metadata": {},
   "outputs": [],
   "source": [
    "# Steps\n",
    "# https://phiresky.github.io/levenshtein-demo/\n",
    "steps = [ex1_source, \n",
    "\"dlip.apples.leaps\",\n",
    "\"dip.apples.leaps\",\n",
    "\"dips.apples.leaps\",\n",
    "\"dips.gpples.leaps\",\n",
    "\"dips.glples.leaps\",\n",
    "\"dips.glules.leaps\",\n",
    "\"dips.glues.leaps\",\n",
    "\"dips.glue.leaps\",\n",
    "\"dips.glue.feaps\",\n",
    "\"dips.glue.freaps\",\n",
    "\"dips.glue.fretps\",\n",
    "\"dips.glue.frets\",\n",
    "ex1_dest]"
   ]
  },
  {
   "cell_type": "code",
   "execution_count": 8,
   "id": "e386211a",
   "metadata": {
    "scrolled": true
   },
   "outputs": [
    {
     "name": "stdout",
     "output_type": "stream",
     "text": [
      "Source: ///clip.apples.leaps, lat: 38.975623, long: -75.811633, near Greensboro, Maryland\n",
      "Dest: ///dips.glue.fret, lat: -25.585638, long: 115.0748, near Carnarvon, Western Australia\n",
      "Geodesic Distance: 11,315.16 miles\n",
      "Levenshtein Edit Distance: 13\n"
     ]
    },
    {
     "data": {
      "text/html": [
       "<div style=\"width:100%;\"><div style=\"position:relative;width:100%;height:0;padding-bottom:60%;\"><span style=\"color:#565656\">Make this Notebook Trusted to load map: File -> Trust Notebook</span><iframe src=\"about:blank\" style=\"position:absolute;width:100%;height:100%;left:0;top:0;border:none !important;\" data-html=%3C%21DOCTYPE%20html%3E%0A%3Chead%3E%20%20%20%20%0A%20%20%20%20%3Cmeta%20http-equiv%3D%22content-type%22%20content%3D%22text/html%3B%20charset%3DUTF-8%22%20/%3E%0A%20%20%20%20%0A%20%20%20%20%20%20%20%20%3Cscript%3E%0A%20%20%20%20%20%20%20%20%20%20%20%20L_NO_TOUCH%20%3D%20false%3B%0A%20%20%20%20%20%20%20%20%20%20%20%20L_DISABLE_3D%20%3D%20false%3B%0A%20%20%20%20%20%20%20%20%3C/script%3E%0A%20%20%20%20%0A%20%20%20%20%3Cstyle%3Ehtml%2C%20body%20%7Bwidth%3A%20100%25%3Bheight%3A%20100%25%3Bmargin%3A%200%3Bpadding%3A%200%3B%7D%3C/style%3E%0A%20%20%20%20%3Cstyle%3E%23map%20%7Bposition%3Aabsolute%3Btop%3A0%3Bbottom%3A0%3Bright%3A0%3Bleft%3A0%3B%7D%3C/style%3E%0A%20%20%20%20%3Cscript%20src%3D%22https%3A//cdn.jsdelivr.net/npm/leaflet%401.6.0/dist/leaflet.js%22%3E%3C/script%3E%0A%20%20%20%20%3Cscript%20src%3D%22https%3A//code.jquery.com/jquery-1.12.4.min.js%22%3E%3C/script%3E%0A%20%20%20%20%3Cscript%20src%3D%22https%3A//maxcdn.bootstrapcdn.com/bootstrap/3.2.0/js/bootstrap.min.js%22%3E%3C/script%3E%0A%20%20%20%20%3Cscript%20src%3D%22https%3A//cdnjs.cloudflare.com/ajax/libs/Leaflet.awesome-markers/2.0.2/leaflet.awesome-markers.js%22%3E%3C/script%3E%0A%20%20%20%20%3Clink%20rel%3D%22stylesheet%22%20href%3D%22https%3A//cdn.jsdelivr.net/npm/leaflet%401.6.0/dist/leaflet.css%22/%3E%0A%20%20%20%20%3Clink%20rel%3D%22stylesheet%22%20href%3D%22https%3A//maxcdn.bootstrapcdn.com/bootstrap/3.2.0/css/bootstrap.min.css%22/%3E%0A%20%20%20%20%3Clink%20rel%3D%22stylesheet%22%20href%3D%22https%3A//maxcdn.bootstrapcdn.com/bootstrap/3.2.0/css/bootstrap-theme.min.css%22/%3E%0A%20%20%20%20%3Clink%20rel%3D%22stylesheet%22%20href%3D%22https%3A//maxcdn.bootstrapcdn.com/font-awesome/4.6.3/css/font-awesome.min.css%22/%3E%0A%20%20%20%20%3Clink%20rel%3D%22stylesheet%22%20href%3D%22https%3A//cdnjs.cloudflare.com/ajax/libs/Leaflet.awesome-markers/2.0.2/leaflet.awesome-markers.css%22/%3E%0A%20%20%20%20%3Clink%20rel%3D%22stylesheet%22%20href%3D%22https%3A//cdn.jsdelivr.net/gh/python-visualization/folium/folium/templates/leaflet.awesome.rotate.min.css%22/%3E%0A%20%20%20%20%0A%20%20%20%20%20%20%20%20%20%20%20%20%3Cmeta%20name%3D%22viewport%22%20content%3D%22width%3Ddevice-width%2C%0A%20%20%20%20%20%20%20%20%20%20%20%20%20%20%20%20initial-scale%3D1.0%2C%20maximum-scale%3D1.0%2C%20user-scalable%3Dno%22%20/%3E%0A%20%20%20%20%20%20%20%20%20%20%20%20%3Cstyle%3E%0A%20%20%20%20%20%20%20%20%20%20%20%20%20%20%20%20%23map_91823d83b59348c9a3c589de10578f94%20%7B%0A%20%20%20%20%20%20%20%20%20%20%20%20%20%20%20%20%20%20%20%20position%3A%20relative%3B%0A%20%20%20%20%20%20%20%20%20%20%20%20%20%20%20%20%20%20%20%20width%3A%20100.0%25%3B%0A%20%20%20%20%20%20%20%20%20%20%20%20%20%20%20%20%20%20%20%20height%3A%20100.0%25%3B%0A%20%20%20%20%20%20%20%20%20%20%20%20%20%20%20%20%20%20%20%20left%3A%200.0%25%3B%0A%20%20%20%20%20%20%20%20%20%20%20%20%20%20%20%20%20%20%20%20top%3A%200.0%25%3B%0A%20%20%20%20%20%20%20%20%20%20%20%20%20%20%20%20%7D%0A%20%20%20%20%20%20%20%20%20%20%20%20%3C/style%3E%0A%20%20%20%20%20%20%20%20%0A%20%20%20%20%3Cscript%20src%3D%22https%3A//cdnjs.cloudflare.com/ajax/libs/leaflet-dvf/0.3.0/leaflet-dvf.markers.min.js%22%3E%3C/script%3E%0A%3C/head%3E%0A%3Cbody%3E%20%20%20%20%0A%20%20%20%20%0A%20%20%20%20%20%20%20%20%20%20%20%20%3Cdiv%20class%3D%22folium-map%22%20id%3D%22map_91823d83b59348c9a3c589de10578f94%22%20%3E%3C/div%3E%0A%20%20%20%20%20%20%20%20%0A%3C/body%3E%0A%3Cscript%3E%20%20%20%20%0A%20%20%20%20%0A%20%20%20%20%20%20%20%20%20%20%20%20var%20map_91823d83b59348c9a3c589de10578f94%20%3D%20L.map%28%0A%20%20%20%20%20%20%20%20%20%20%20%20%20%20%20%20%22map_91823d83b59348c9a3c589de10578f94%22%2C%0A%20%20%20%20%20%20%20%20%20%20%20%20%20%20%20%20%7B%0A%20%20%20%20%20%20%20%20%20%20%20%20%20%20%20%20%20%20%20%20center%3A%20%5B29.40863516666667%2C%20-21.28162583333334%5D%2C%0A%20%20%20%20%20%20%20%20%20%20%20%20%20%20%20%20%20%20%20%20crs%3A%20L.CRS.EPSG3857%2C%0A%20%20%20%20%20%20%20%20%20%20%20%20%20%20%20%20%20%20%20%20zoom%3A%202%2C%0A%20%20%20%20%20%20%20%20%20%20%20%20%20%20%20%20%20%20%20%20zoomControl%3A%20true%2C%0A%20%20%20%20%20%20%20%20%20%20%20%20%20%20%20%20%20%20%20%20preferCanvas%3A%20false%2C%0A%20%20%20%20%20%20%20%20%20%20%20%20%20%20%20%20%7D%0A%20%20%20%20%20%20%20%20%20%20%20%20%29%3B%0A%0A%20%20%20%20%20%20%20%20%20%20%20%20%0A%0A%20%20%20%20%20%20%20%20%0A%20%20%20%20%0A%20%20%20%20%20%20%20%20%20%20%20%20var%20tile_layer_5c9344be104240c9aef640791703fae2%20%3D%20L.tileLayer%28%0A%20%20%20%20%20%20%20%20%20%20%20%20%20%20%20%20%22https%3A//stamen-tiles-%7Bs%7D.a.ssl.fastly.net/toner/%7Bz%7D/%7Bx%7D/%7By%7D.png%22%2C%0A%20%20%20%20%20%20%20%20%20%20%20%20%20%20%20%20%7B%22attribution%22%3A%20%22Map%20tiles%20by%20%5Cu003ca%20href%3D%5C%22http%3A//stamen.com%5C%22%5Cu003eStamen%20Design%5Cu003c/a%5Cu003e%2C%20under%20%5Cu003ca%20href%3D%5C%22http%3A//creativecommons.org/licenses/by/3.0%5C%22%5Cu003eCC%20BY%203.0%5Cu003c/a%5Cu003e.%20Data%20by%20%5Cu0026copy%3B%20%5Cu003ca%20href%3D%5C%22http%3A//openstreetmap.org%5C%22%5Cu003eOpenStreetMap%5Cu003c/a%5Cu003e%2C%20under%20%5Cu003ca%20href%3D%5C%22http%3A//www.openstreetmap.org/copyright%5C%22%5Cu003eODbL%5Cu003c/a%5Cu003e.%22%2C%20%22detectRetina%22%3A%20false%2C%20%22maxNativeZoom%22%3A%2018%2C%20%22maxZoom%22%3A%2018%2C%20%22minZoom%22%3A%200%2C%20%22noWrap%22%3A%20false%2C%20%22opacity%22%3A%201%2C%20%22subdomains%22%3A%20%22abc%22%2C%20%22tms%22%3A%20false%7D%0A%20%20%20%20%20%20%20%20%20%20%20%20%29.addTo%28map_91823d83b59348c9a3c589de10578f94%29%3B%0A%20%20%20%20%20%20%20%20%0A%20%20%20%20%0A%20%20%20%20%20%20%20%20%20%20%20%20var%20poly_line_686008fd3c034cb68df445d50b128a71%20%3D%20L.polyline%28%0A%20%20%20%20%20%20%20%20%20%20%20%20%20%20%20%20%5B%5B38.975623%2C%20-75.811633%5D%2C%20%5B47.724302%2C%20-122.081188%5D%2C%20%5B42.469181%2C%20-97.117928%5D%2C%20%5B53.398434%2C%20-2.81725%5D%2C%20%5B19.469909%2C%2055.063444%5D%2C%20%5B-25.585638%2C%20115.0748%5D%5D%2C%0A%20%20%20%20%20%20%20%20%20%20%20%20%20%20%20%20%7B%22bubblingMouseEvents%22%3A%20true%2C%20%22color%22%3A%20%22%23CF3732%22%2C%20%22dashArray%22%3A%20null%2C%20%22dashOffset%22%3A%20null%2C%20%22fill%22%3A%20false%2C%20%22fillColor%22%3A%20%22%23CF3732%22%2C%20%22fillOpacity%22%3A%200.2%2C%20%22fillRule%22%3A%20%22evenodd%22%2C%20%22lineCap%22%3A%20%22round%22%2C%20%22lineJoin%22%3A%20%22round%22%2C%20%22noClip%22%3A%20false%2C%20%22opacity%22%3A%200.7%2C%20%22smoothFactor%22%3A%201.0%2C%20%22stroke%22%3A%20true%2C%20%22weight%22%3A%203%7D%0A%20%20%20%20%20%20%20%20%20%20%20%20%29.addTo%28map_91823d83b59348c9a3c589de10578f94%29%3B%0A%20%20%20%20%20%20%20%20%0A%20%20%20%20%0A%20%20%20%20%20%20%20%20%20%20%20%20var%20regular_polygon_marker_5a28cf2f2ae140ad909ce73cfa5ccb39%20%3D%20new%20L.RegularPolygonMarker%28%0A%20%20%20%20%20%20%20%20%20%20%20%20%20%20%20%20%5B38.975623%2C%20-75.811633%5D%2C%0A%20%20%20%20%20%20%20%20%20%20%20%20%20%20%20%20%7B%22bubblingMouseEvents%22%3A%20true%2C%20%22color%22%3A%20%22%230072BB%22%2C%20%22dashArray%22%3A%20null%2C%20%22dashOffset%22%3A%20null%2C%20%22fill%22%3A%20true%2C%20%22fillColor%22%3A%20%22%230072BB%22%2C%20%22fillOpacity%22%3A%200.2%2C%20%22fillRule%22%3A%20%22evenodd%22%2C%20%22lineCap%22%3A%20%22round%22%2C%20%22lineJoin%22%3A%20%22round%22%2C%20%22numberOfSides%22%3A%204%2C%20%22opacity%22%3A%201.0%2C%20%22radius%22%3A%205%2C%20%22rotation%22%3A%2045%2C%20%22stroke%22%3A%20true%2C%20%22weight%22%3A%203%7D%0A%20%20%20%20%20%20%20%20%20%20%20%20%29.addTo%28map_91823d83b59348c9a3c589de10578f94%29%3B%0A%20%20%20%20%20%20%20%20%0A%20%20%20%20%0A%20%20%20%20%20%20%20%20var%20popup_756b51a094df4a699a9bff8f7ff94549%20%3D%20L.popup%28%7B%22maxWidth%22%3A%20%22100%25%22%7D%29%3B%0A%0A%20%20%20%20%20%20%20%20%0A%20%20%20%20%20%20%20%20%20%20%20%20var%20html_690761718d2d44daba1893467311fd57%20%3D%20%24%28%60%3Cdiv%20id%3D%22html_690761718d2d44daba1893467311fd57%22%20style%3D%22width%3A%20100.0%25%3B%20height%3A%20100.0%25%3B%22%3EStep%200/5%20%3Ca%20href%3Dhttps%3A//w3w.co/clip.apples.leaps%3E///clip.apples.leaps%3C/a%3E%3C/div%3E%60%29%5B0%5D%3B%0A%20%20%20%20%20%20%20%20%20%20%20%20popup_756b51a094df4a699a9bff8f7ff94549.setContent%28html_690761718d2d44daba1893467311fd57%29%3B%0A%20%20%20%20%20%20%20%20%0A%0A%20%20%20%20%20%20%20%20regular_polygon_marker_5a28cf2f2ae140ad909ce73cfa5ccb39.bindPopup%28popup_756b51a094df4a699a9bff8f7ff94549%29%0A%20%20%20%20%20%20%20%20%3B%0A%0A%20%20%20%20%20%20%20%20%0A%20%20%20%20%0A%20%20%20%20%0A%20%20%20%20%20%20%20%20%20%20%20%20var%20regular_polygon_marker_f0e4f4cbcc9e432d9d2126cbc8198a52%20%3D%20new%20L.RegularPolygonMarker%28%0A%20%20%20%20%20%20%20%20%20%20%20%20%20%20%20%20%5B47.724302%2C%20-122.081188%5D%2C%0A%20%20%20%20%20%20%20%20%20%20%20%20%20%20%20%20%7B%22bubblingMouseEvents%22%3A%20true%2C%20%22color%22%3A%20%22%23CF3732%22%2C%20%22dashArray%22%3A%20null%2C%20%22dashOffset%22%3A%20null%2C%20%22fill%22%3A%20true%2C%20%22fillColor%22%3A%20%22%23CF3732%22%2C%20%22fillOpacity%22%3A%200.2%2C%20%22fillRule%22%3A%20%22evenodd%22%2C%20%22lineCap%22%3A%20%22round%22%2C%20%22lineJoin%22%3A%20%22round%22%2C%20%22numberOfSides%22%3A%204%2C%20%22opacity%22%3A%201.0%2C%20%22radius%22%3A%205%2C%20%22rotation%22%3A%2045%2C%20%22stroke%22%3A%20true%2C%20%22weight%22%3A%203%7D%0A%20%20%20%20%20%20%20%20%20%20%20%20%29.addTo%28map_91823d83b59348c9a3c589de10578f94%29%3B%0A%20%20%20%20%20%20%20%20%0A%20%20%20%20%0A%20%20%20%20%20%20%20%20var%20popup_62ee8025efa944dd90f677c6b19b4cb6%20%3D%20L.popup%28%7B%22maxWidth%22%3A%20%22100%25%22%7D%29%3B%0A%0A%20%20%20%20%20%20%20%20%0A%20%20%20%20%20%20%20%20%20%20%20%20var%20html_31c4ddda95714959bc44a1574af37305%20%3D%20%24%28%60%3Cdiv%20id%3D%22html_31c4ddda95714959bc44a1574af37305%22%20style%3D%22width%3A%20100.0%25%3B%20height%3A%20100.0%25%3B%22%3EStep%201/5%20%3Ca%20href%3Dhttps%3A//w3w.co/dips.apples.leaps%3E///dips.apples.leaps%3C/a%3E%3C/div%3E%60%29%5B0%5D%3B%0A%20%20%20%20%20%20%20%20%20%20%20%20popup_62ee8025efa944dd90f677c6b19b4cb6.setContent%28html_31c4ddda95714959bc44a1574af37305%29%3B%0A%20%20%20%20%20%20%20%20%0A%0A%20%20%20%20%20%20%20%20regular_polygon_marker_f0e4f4cbcc9e432d9d2126cbc8198a52.bindPopup%28popup_62ee8025efa944dd90f677c6b19b4cb6%29%0A%20%20%20%20%20%20%20%20%3B%0A%0A%20%20%20%20%20%20%20%20%0A%20%20%20%20%0A%20%20%20%20%0A%20%20%20%20%20%20%20%20%20%20%20%20var%20regular_polygon_marker_90211565abaf458bacb16548a306dace%20%3D%20new%20L.RegularPolygonMarker%28%0A%20%20%20%20%20%20%20%20%20%20%20%20%20%20%20%20%5B42.469181%2C%20-97.117928%5D%2C%0A%20%20%20%20%20%20%20%20%20%20%20%20%20%20%20%20%7B%22bubblingMouseEvents%22%3A%20true%2C%20%22color%22%3A%20%22%23CF3732%22%2C%20%22dashArray%22%3A%20null%2C%20%22dashOffset%22%3A%20null%2C%20%22fill%22%3A%20true%2C%20%22fillColor%22%3A%20%22%23CF3732%22%2C%20%22fillOpacity%22%3A%200.2%2C%20%22fillRule%22%3A%20%22evenodd%22%2C%20%22lineCap%22%3A%20%22round%22%2C%20%22lineJoin%22%3A%20%22round%22%2C%20%22numberOfSides%22%3A%204%2C%20%22opacity%22%3A%201.0%2C%20%22radius%22%3A%205%2C%20%22rotation%22%3A%2045%2C%20%22stroke%22%3A%20true%2C%20%22weight%22%3A%203%7D%0A%20%20%20%20%20%20%20%20%20%20%20%20%29.addTo%28map_91823d83b59348c9a3c589de10578f94%29%3B%0A%20%20%20%20%20%20%20%20%0A%20%20%20%20%0A%20%20%20%20%20%20%20%20var%20popup_66f4969545964823abcb597d6291ab6e%20%3D%20L.popup%28%7B%22maxWidth%22%3A%20%22100%25%22%7D%29%3B%0A%0A%20%20%20%20%20%20%20%20%0A%20%20%20%20%20%20%20%20%20%20%20%20var%20html_8c31efb041dd4fd599a1efcf3b0aaa74%20%3D%20%24%28%60%3Cdiv%20id%3D%22html_8c31efb041dd4fd599a1efcf3b0aaa74%22%20style%3D%22width%3A%20100.0%25%3B%20height%3A%20100.0%25%3B%22%3EStep%202/5%20%3Ca%20href%3Dhttps%3A//w3w.co/dips.glues.leaps%3E///dips.glues.leaps%3C/a%3E%3C/div%3E%60%29%5B0%5D%3B%0A%20%20%20%20%20%20%20%20%20%20%20%20popup_66f4969545964823abcb597d6291ab6e.setContent%28html_8c31efb041dd4fd599a1efcf3b0aaa74%29%3B%0A%20%20%20%20%20%20%20%20%0A%0A%20%20%20%20%20%20%20%20regular_polygon_marker_90211565abaf458bacb16548a306dace.bindPopup%28popup_66f4969545964823abcb597d6291ab6e%29%0A%20%20%20%20%20%20%20%20%3B%0A%0A%20%20%20%20%20%20%20%20%0A%20%20%20%20%0A%20%20%20%20%0A%20%20%20%20%20%20%20%20%20%20%20%20var%20regular_polygon_marker_5cf3486acf5640719aa30ba73dd3dca3%20%3D%20new%20L.RegularPolygonMarker%28%0A%20%20%20%20%20%20%20%20%20%20%20%20%20%20%20%20%5B53.398434%2C%20-2.81725%5D%2C%0A%20%20%20%20%20%20%20%20%20%20%20%20%20%20%20%20%7B%22bubblingMouseEvents%22%3A%20true%2C%20%22color%22%3A%20%22%23CF3732%22%2C%20%22dashArray%22%3A%20null%2C%20%22dashOffset%22%3A%20null%2C%20%22fill%22%3A%20true%2C%20%22fillColor%22%3A%20%22%23CF3732%22%2C%20%22fillOpacity%22%3A%200.2%2C%20%22fillRule%22%3A%20%22evenodd%22%2C%20%22lineCap%22%3A%20%22round%22%2C%20%22lineJoin%22%3A%20%22round%22%2C%20%22numberOfSides%22%3A%204%2C%20%22opacity%22%3A%201.0%2C%20%22radius%22%3A%205%2C%20%22rotation%22%3A%2045%2C%20%22stroke%22%3A%20true%2C%20%22weight%22%3A%203%7D%0A%20%20%20%20%20%20%20%20%20%20%20%20%29.addTo%28map_91823d83b59348c9a3c589de10578f94%29%3B%0A%20%20%20%20%20%20%20%20%0A%20%20%20%20%0A%20%20%20%20%20%20%20%20var%20popup_a124fc6a627b4cc69f7f06c16c80af69%20%3D%20L.popup%28%7B%22maxWidth%22%3A%20%22100%25%22%7D%29%3B%0A%0A%20%20%20%20%20%20%20%20%0A%20%20%20%20%20%20%20%20%20%20%20%20var%20html_4136db90aa0f4febb6b7b987e15f26db%20%3D%20%24%28%60%3Cdiv%20id%3D%22html_4136db90aa0f4febb6b7b987e15f26db%22%20style%3D%22width%3A%20100.0%25%3B%20height%3A%20100.0%25%3B%22%3EStep%203/5%20%3Ca%20href%3Dhttps%3A//w3w.co/dips.glue.leaps%3E///dips.glue.leaps%3C/a%3E%3C/div%3E%60%29%5B0%5D%3B%0A%20%20%20%20%20%20%20%20%20%20%20%20popup_a124fc6a627b4cc69f7f06c16c80af69.setContent%28html_4136db90aa0f4febb6b7b987e15f26db%29%3B%0A%20%20%20%20%20%20%20%20%0A%0A%20%20%20%20%20%20%20%20regular_polygon_marker_5cf3486acf5640719aa30ba73dd3dca3.bindPopup%28popup_a124fc6a627b4cc69f7f06c16c80af69%29%0A%20%20%20%20%20%20%20%20%3B%0A%0A%20%20%20%20%20%20%20%20%0A%20%20%20%20%0A%20%20%20%20%0A%20%20%20%20%20%20%20%20%20%20%20%20var%20regular_polygon_marker_e391e3135b0a45ada0fd299f695d026b%20%3D%20new%20L.RegularPolygonMarker%28%0A%20%20%20%20%20%20%20%20%20%20%20%20%20%20%20%20%5B19.469909%2C%2055.063444%5D%2C%0A%20%20%20%20%20%20%20%20%20%20%20%20%20%20%20%20%7B%22bubblingMouseEvents%22%3A%20true%2C%20%22color%22%3A%20%22%23CF3732%22%2C%20%22dashArray%22%3A%20null%2C%20%22dashOffset%22%3A%20null%2C%20%22fill%22%3A%20true%2C%20%22fillColor%22%3A%20%22%23CF3732%22%2C%20%22fillOpacity%22%3A%200.2%2C%20%22fillRule%22%3A%20%22evenodd%22%2C%20%22lineCap%22%3A%20%22round%22%2C%20%22lineJoin%22%3A%20%22round%22%2C%20%22numberOfSides%22%3A%204%2C%20%22opacity%22%3A%201.0%2C%20%22radius%22%3A%205%2C%20%22rotation%22%3A%2045%2C%20%22stroke%22%3A%20true%2C%20%22weight%22%3A%203%7D%0A%20%20%20%20%20%20%20%20%20%20%20%20%29.addTo%28map_91823d83b59348c9a3c589de10578f94%29%3B%0A%20%20%20%20%20%20%20%20%0A%20%20%20%20%0A%20%20%20%20%20%20%20%20var%20popup_cc16e213d1a44a90a6dff6e188671cbb%20%3D%20L.popup%28%7B%22maxWidth%22%3A%20%22100%25%22%7D%29%3B%0A%0A%20%20%20%20%20%20%20%20%0A%20%20%20%20%20%20%20%20%20%20%20%20var%20html_e074295b5f6b4c9d81651b5f6937cc85%20%3D%20%24%28%60%3Cdiv%20id%3D%22html_e074295b5f6b4c9d81651b5f6937cc85%22%20style%3D%22width%3A%20100.0%25%3B%20height%3A%20100.0%25%3B%22%3EStep%204/5%20%3Ca%20href%3Dhttps%3A//w3w.co/dips.glue.frets%3E///dips.glue.frets%3C/a%3E%3C/div%3E%60%29%5B0%5D%3B%0A%20%20%20%20%20%20%20%20%20%20%20%20popup_cc16e213d1a44a90a6dff6e188671cbb.setContent%28html_e074295b5f6b4c9d81651b5f6937cc85%29%3B%0A%20%20%20%20%20%20%20%20%0A%0A%20%20%20%20%20%20%20%20regular_polygon_marker_e391e3135b0a45ada0fd299f695d026b.bindPopup%28popup_cc16e213d1a44a90a6dff6e188671cbb%29%0A%20%20%20%20%20%20%20%20%3B%0A%0A%20%20%20%20%20%20%20%20%0A%20%20%20%20%0A%20%20%20%20%0A%20%20%20%20%20%20%20%20%20%20%20%20var%20regular_polygon_marker_96d9835bec1e43cd87278a469bc04c0e%20%3D%20new%20L.RegularPolygonMarker%28%0A%20%20%20%20%20%20%20%20%20%20%20%20%20%20%20%20%5B-25.585638%2C%20115.0748%5D%2C%0A%20%20%20%20%20%20%20%20%20%20%20%20%20%20%20%20%7B%22bubblingMouseEvents%22%3A%20true%2C%20%22color%22%3A%20%22%23e4cc37%22%2C%20%22dashArray%22%3A%20null%2C%20%22dashOffset%22%3A%20null%2C%20%22fill%22%3A%20true%2C%20%22fillColor%22%3A%20%22%23e4cc37%22%2C%20%22fillOpacity%22%3A%200.2%2C%20%22fillRule%22%3A%20%22evenodd%22%2C%20%22lineCap%22%3A%20%22round%22%2C%20%22lineJoin%22%3A%20%22round%22%2C%20%22numberOfSides%22%3A%204%2C%20%22opacity%22%3A%201.0%2C%20%22radius%22%3A%205%2C%20%22rotation%22%3A%2045%2C%20%22stroke%22%3A%20true%2C%20%22weight%22%3A%203%7D%0A%20%20%20%20%20%20%20%20%20%20%20%20%29.addTo%28map_91823d83b59348c9a3c589de10578f94%29%3B%0A%20%20%20%20%20%20%20%20%0A%20%20%20%20%0A%20%20%20%20%20%20%20%20var%20popup_f470ef0d848f497c808d19f8f2cce80c%20%3D%20L.popup%28%7B%22maxWidth%22%3A%20%22100%25%22%7D%29%3B%0A%0A%20%20%20%20%20%20%20%20%0A%20%20%20%20%20%20%20%20%20%20%20%20var%20html_a2eb824dfeb244e99c5fa9cea5479f31%20%3D%20%24%28%60%3Cdiv%20id%3D%22html_a2eb824dfeb244e99c5fa9cea5479f31%22%20style%3D%22width%3A%20100.0%25%3B%20height%3A%20100.0%25%3B%22%3EStep%205/5%20%3Ca%20href%3Dhttps%3A//w3w.co/dips.glue.fret%3E///dips.glue.fret%3C/a%3E%3C/div%3E%60%29%5B0%5D%3B%0A%20%20%20%20%20%20%20%20%20%20%20%20popup_f470ef0d848f497c808d19f8f2cce80c.setContent%28html_a2eb824dfeb244e99c5fa9cea5479f31%29%3B%0A%20%20%20%20%20%20%20%20%0A%0A%20%20%20%20%20%20%20%20regular_polygon_marker_96d9835bec1e43cd87278a469bc04c0e.bindPopup%28popup_f470ef0d848f497c808d19f8f2cce80c%29%0A%20%20%20%20%20%20%20%20%3B%0A%0A%20%20%20%20%20%20%20%20%0A%20%20%20%20%0A%3C/script%3E onload=\"this.contentDocument.open();this.contentDocument.write(    decodeURIComponent(this.getAttribute('data-html')));this.contentDocument.close();\" allowfullscreen webkitallowfullscreen mozallowfullscreen></iframe></div></div>"
      ],
      "text/plain": [
       "<folium.folium.Map at 0x7ffba18d2f60>"
      ]
     },
     "execution_count": 8,
     "metadata": {},
     "output_type": "execute_result"
    }
   ],
   "source": [
    "ex1_map, ex1_df = edit_distance_map(steps)\n",
    "ex1_map"
   ]
  },
  {
   "cell_type": "code",
   "execution_count": 9,
   "id": "1c77a82d",
   "metadata": {},
   "outputs": [
    {
     "data": {
      "text/html": [
       "<div>\n",
       "<style scoped>\n",
       "    .dataframe tbody tr th:only-of-type {\n",
       "        vertical-align: middle;\n",
       "    }\n",
       "\n",
       "    .dataframe tbody tr th {\n",
       "        vertical-align: top;\n",
       "    }\n",
       "\n",
       "    .dataframe thead th {\n",
       "        text-align: right;\n",
       "    }\n",
       "</style>\n",
       "<table border=\"1\" class=\"dataframe\">\n",
       "  <thead>\n",
       "    <tr style=\"text-align: right;\">\n",
       "      <th></th>\n",
       "      <th>words</th>\n",
       "      <th>lat</th>\n",
       "      <th>long</th>\n",
       "      <th>nearestPlace</th>\n",
       "      <th>url</th>\n",
       "    </tr>\n",
       "  </thead>\n",
       "  <tbody>\n",
       "    <tr>\n",
       "      <td>0</td>\n",
       "      <td>clip.apples.leaps</td>\n",
       "      <td>38.975623</td>\n",
       "      <td>-75.811633</td>\n",
       "      <td>Greensboro, Maryland</td>\n",
       "      <td>https://w3w.co/clip.apples.leaps</td>\n",
       "    </tr>\n",
       "    <tr>\n",
       "      <td>1</td>\n",
       "      <td>dips.apples.leaps</td>\n",
       "      <td>47.724302</td>\n",
       "      <td>-122.081188</td>\n",
       "      <td>Cottage Lake, Washington</td>\n",
       "      <td>https://w3w.co/dips.apples.leaps</td>\n",
       "    </tr>\n",
       "    <tr>\n",
       "      <td>2</td>\n",
       "      <td>dips.glues.leaps</td>\n",
       "      <td>42.469181</td>\n",
       "      <td>-97.117928</td>\n",
       "      <td>Hartington, Nebraska</td>\n",
       "      <td>https://w3w.co/dips.glues.leaps</td>\n",
       "    </tr>\n",
       "    <tr>\n",
       "      <td>3</td>\n",
       "      <td>dips.glue.leaps</td>\n",
       "      <td>53.398434</td>\n",
       "      <td>-2.817250</td>\n",
       "      <td>Huyton, Knowsley</td>\n",
       "      <td>https://w3w.co/dips.glue.leaps</td>\n",
       "    </tr>\n",
       "    <tr>\n",
       "      <td>4</td>\n",
       "      <td>dips.glue.frets</td>\n",
       "      <td>19.469909</td>\n",
       "      <td>55.063444</td>\n",
       "      <td>Haymā’, Al Wusta</td>\n",
       "      <td>https://w3w.co/dips.glue.frets</td>\n",
       "    </tr>\n",
       "    <tr>\n",
       "      <td>5</td>\n",
       "      <td>dips.glue.fret</td>\n",
       "      <td>-25.585638</td>\n",
       "      <td>115.074800</td>\n",
       "      <td>Carnarvon, Western Australia</td>\n",
       "      <td>https://w3w.co/dips.glue.fret</td>\n",
       "    </tr>\n",
       "  </tbody>\n",
       "</table>\n",
       "</div>"
      ],
      "text/plain": [
       "               words        lat        long                  nearestPlace  \\\n",
       "0  clip.apples.leaps  38.975623  -75.811633          Greensboro, Maryland   \n",
       "1  dips.apples.leaps  47.724302 -122.081188      Cottage Lake, Washington   \n",
       "2   dips.glues.leaps  42.469181  -97.117928          Hartington, Nebraska   \n",
       "3    dips.glue.leaps  53.398434   -2.817250              Huyton, Knowsley   \n",
       "4    dips.glue.frets  19.469909   55.063444              Haymā’, Al Wusta   \n",
       "5     dips.glue.fret -25.585638  115.074800  Carnarvon, Western Australia   \n",
       "\n",
       "                                url  \n",
       "0  https://w3w.co/clip.apples.leaps  \n",
       "1  https://w3w.co/dips.apples.leaps  \n",
       "2   https://w3w.co/dips.glues.leaps  \n",
       "3    https://w3w.co/dips.glue.leaps  \n",
       "4    https://w3w.co/dips.glue.frets  \n",
       "5     https://w3w.co/dips.glue.fret  "
      ]
     },
     "execution_count": 9,
     "metadata": {},
     "output_type": "execute_result"
    }
   ],
   "source": [
    "ex1_df"
   ]
  },
  {
   "cell_type": "code",
   "execution_count": 10,
   "id": "5739f2e6",
   "metadata": {},
   "outputs": [],
   "source": [
    "#ex1_map.save(\"clip-apples-leap-stamen-toner-map.html\")"
   ]
  },
  {
   "cell_type": "markdown",
   "id": "c8cb6f46",
   "metadata": {},
   "source": [
    "## Example 2 -- Nearby Squares\n",
    "\n",
    "Let's try two nearby locations on the Berkeley campus: McCone Hall to Moffitt Library\n",
    "\n",
    " `///desks.fish.sleepy` to `///gets.packet.text`"
   ]
  },
  {
   "cell_type": "code",
   "execution_count": 11,
   "id": "7200eb25",
   "metadata": {},
   "outputs": [],
   "source": [
    "mccone_hall = \"desks.fish.sleepy\"\n",
    "moffitt_library = \"gets.packet.text\"\n",
    "\n",
    "\n",
    "steps2 = [mccone_hall, \n",
    "\"gesks.fish.sleepy\",\n",
    "\"getks.fish.sleepy\",\n",
    "\"gets.fish.sleepy\",\n",
    "\"gets.pish.sleepy\",\n",
    "\"gets.pash.sleepy\",\n",
    "\"gets.pach.sleepy\",\n",
    "\"gets.pack.sleepy\",\n",
    "\"gets.packesleepy\",\n",
    "\"gets.packetleepy\",\n",
    "\"gets.packet.eepy\",\n",
    "\"gets.packet.tepy\",\n",
    "\"gets.packet.texy\",\n",
    "moffitt_library]"
   ]
  },
  {
   "cell_type": "code",
   "execution_count": 12,
   "id": "7f572f0e",
   "metadata": {
    "scrolled": true
   },
   "outputs": [
    {
     "name": "stdout",
     "output_type": "stream",
     "text": [
      "Source: ///desks.fish.sleepy, lat: 37.874178, long: -122.259682, near Berkeley, California\n",
      "Dest: ///gets.packet.text, lat: 37.872372, long: -122.260878, near Berkeley, California\n",
      "Geodesic Distance: 0.14 miles\n",
      "Levenshtein Edit Distance: 13\n"
     ]
    },
    {
     "data": {
      "text/html": [
       "<div style=\"width:100%;\"><div style=\"position:relative;width:100%;height:0;padding-bottom:60%;\"><span style=\"color:#565656\">Make this Notebook Trusted to load map: File -> Trust Notebook</span><iframe src=\"about:blank\" style=\"position:absolute;width:100%;height:100%;left:0;top:0;border:none !important;\" data-html=%3C%21DOCTYPE%20html%3E%0A%3Chead%3E%20%20%20%20%0A%20%20%20%20%3Cmeta%20http-equiv%3D%22content-type%22%20content%3D%22text/html%3B%20charset%3DUTF-8%22%20/%3E%0A%20%20%20%20%0A%20%20%20%20%20%20%20%20%3Cscript%3E%0A%20%20%20%20%20%20%20%20%20%20%20%20L_NO_TOUCH%20%3D%20false%3B%0A%20%20%20%20%20%20%20%20%20%20%20%20L_DISABLE_3D%20%3D%20false%3B%0A%20%20%20%20%20%20%20%20%3C/script%3E%0A%20%20%20%20%0A%20%20%20%20%3Cstyle%3Ehtml%2C%20body%20%7Bwidth%3A%20100%25%3Bheight%3A%20100%25%3Bmargin%3A%200%3Bpadding%3A%200%3B%7D%3C/style%3E%0A%20%20%20%20%3Cstyle%3E%23map%20%7Bposition%3Aabsolute%3Btop%3A0%3Bbottom%3A0%3Bright%3A0%3Bleft%3A0%3B%7D%3C/style%3E%0A%20%20%20%20%3Cscript%20src%3D%22https%3A//cdn.jsdelivr.net/npm/leaflet%401.6.0/dist/leaflet.js%22%3E%3C/script%3E%0A%20%20%20%20%3Cscript%20src%3D%22https%3A//code.jquery.com/jquery-1.12.4.min.js%22%3E%3C/script%3E%0A%20%20%20%20%3Cscript%20src%3D%22https%3A//maxcdn.bootstrapcdn.com/bootstrap/3.2.0/js/bootstrap.min.js%22%3E%3C/script%3E%0A%20%20%20%20%3Cscript%20src%3D%22https%3A//cdnjs.cloudflare.com/ajax/libs/Leaflet.awesome-markers/2.0.2/leaflet.awesome-markers.js%22%3E%3C/script%3E%0A%20%20%20%20%3Clink%20rel%3D%22stylesheet%22%20href%3D%22https%3A//cdn.jsdelivr.net/npm/leaflet%401.6.0/dist/leaflet.css%22/%3E%0A%20%20%20%20%3Clink%20rel%3D%22stylesheet%22%20href%3D%22https%3A//maxcdn.bootstrapcdn.com/bootstrap/3.2.0/css/bootstrap.min.css%22/%3E%0A%20%20%20%20%3Clink%20rel%3D%22stylesheet%22%20href%3D%22https%3A//maxcdn.bootstrapcdn.com/bootstrap/3.2.0/css/bootstrap-theme.min.css%22/%3E%0A%20%20%20%20%3Clink%20rel%3D%22stylesheet%22%20href%3D%22https%3A//maxcdn.bootstrapcdn.com/font-awesome/4.6.3/css/font-awesome.min.css%22/%3E%0A%20%20%20%20%3Clink%20rel%3D%22stylesheet%22%20href%3D%22https%3A//cdnjs.cloudflare.com/ajax/libs/Leaflet.awesome-markers/2.0.2/leaflet.awesome-markers.css%22/%3E%0A%20%20%20%20%3Clink%20rel%3D%22stylesheet%22%20href%3D%22https%3A//cdn.jsdelivr.net/gh/python-visualization/folium/folium/templates/leaflet.awesome.rotate.min.css%22/%3E%0A%20%20%20%20%0A%20%20%20%20%20%20%20%20%20%20%20%20%3Cmeta%20name%3D%22viewport%22%20content%3D%22width%3Ddevice-width%2C%0A%20%20%20%20%20%20%20%20%20%20%20%20%20%20%20%20initial-scale%3D1.0%2C%20maximum-scale%3D1.0%2C%20user-scalable%3Dno%22%20/%3E%0A%20%20%20%20%20%20%20%20%20%20%20%20%3Cstyle%3E%0A%20%20%20%20%20%20%20%20%20%20%20%20%20%20%20%20%23map_0547301520424d36a55ec0d9b4e0e788%20%7B%0A%20%20%20%20%20%20%20%20%20%20%20%20%20%20%20%20%20%20%20%20position%3A%20relative%3B%0A%20%20%20%20%20%20%20%20%20%20%20%20%20%20%20%20%20%20%20%20width%3A%20100.0%25%3B%0A%20%20%20%20%20%20%20%20%20%20%20%20%20%20%20%20%20%20%20%20height%3A%20100.0%25%3B%0A%20%20%20%20%20%20%20%20%20%20%20%20%20%20%20%20%20%20%20%20left%3A%200.0%25%3B%0A%20%20%20%20%20%20%20%20%20%20%20%20%20%20%20%20%20%20%20%20top%3A%200.0%25%3B%0A%20%20%20%20%20%20%20%20%20%20%20%20%20%20%20%20%7D%0A%20%20%20%20%20%20%20%20%20%20%20%20%3C/style%3E%0A%20%20%20%20%20%20%20%20%0A%20%20%20%20%3Cscript%20src%3D%22https%3A//cdnjs.cloudflare.com/ajax/libs/leaflet-dvf/0.3.0/leaflet-dvf.markers.min.js%22%3E%3C/script%3E%0A%3C/head%3E%0A%3Cbody%3E%20%20%20%20%0A%20%20%20%20%0A%20%20%20%20%20%20%20%20%20%20%20%20%3Cdiv%20class%3D%22folium-map%22%20id%3D%22map_0547301520424d36a55ec0d9b4e0e788%22%20%3E%3C/div%3E%0A%20%20%20%20%20%20%20%20%0A%3C/body%3E%0A%3Cscript%3E%20%20%20%20%0A%20%20%20%20%0A%20%20%20%20%20%20%20%20%20%20%20%20var%20map_0547301520424d36a55ec0d9b4e0e788%20%3D%20L.map%28%0A%20%20%20%20%20%20%20%20%20%20%20%20%20%20%20%20%22map_0547301520424d36a55ec0d9b4e0e788%22%2C%0A%20%20%20%20%20%20%20%20%20%20%20%20%20%20%20%20%7B%0A%20%20%20%20%20%20%20%20%20%20%20%20%20%20%20%20%20%20%20%20center%3A%20%5B22.3169535%2C%20-24.837691749999998%5D%2C%0A%20%20%20%20%20%20%20%20%20%20%20%20%20%20%20%20%20%20%20%20crs%3A%20L.CRS.EPSG3857%2C%0A%20%20%20%20%20%20%20%20%20%20%20%20%20%20%20%20%20%20%20%20zoom%3A%202%2C%0A%20%20%20%20%20%20%20%20%20%20%20%20%20%20%20%20%20%20%20%20zoomControl%3A%20true%2C%0A%20%20%20%20%20%20%20%20%20%20%20%20%20%20%20%20%20%20%20%20preferCanvas%3A%20false%2C%0A%20%20%20%20%20%20%20%20%20%20%20%20%20%20%20%20%7D%0A%20%20%20%20%20%20%20%20%20%20%20%20%29%3B%0A%0A%20%20%20%20%20%20%20%20%20%20%20%20%0A%0A%20%20%20%20%20%20%20%20%0A%20%20%20%20%0A%20%20%20%20%20%20%20%20%20%20%20%20var%20tile_layer_6a3d2c573f55400e9e7ee32064fa2a05%20%3D%20L.tileLayer%28%0A%20%20%20%20%20%20%20%20%20%20%20%20%20%20%20%20%22https%3A//stamen-tiles-%7Bs%7D.a.ssl.fastly.net/toner/%7Bz%7D/%7Bx%7D/%7By%7D.png%22%2C%0A%20%20%20%20%20%20%20%20%20%20%20%20%20%20%20%20%7B%22attribution%22%3A%20%22Map%20tiles%20by%20%5Cu003ca%20href%3D%5C%22http%3A//stamen.com%5C%22%5Cu003eStamen%20Design%5Cu003c/a%5Cu003e%2C%20under%20%5Cu003ca%20href%3D%5C%22http%3A//creativecommons.org/licenses/by/3.0%5C%22%5Cu003eCC%20BY%203.0%5Cu003c/a%5Cu003e.%20Data%20by%20%5Cu0026copy%3B%20%5Cu003ca%20href%3D%5C%22http%3A//openstreetmap.org%5C%22%5Cu003eOpenStreetMap%5Cu003c/a%5Cu003e%2C%20under%20%5Cu003ca%20href%3D%5C%22http%3A//www.openstreetmap.org/copyright%5C%22%5Cu003eODbL%5Cu003c/a%5Cu003e.%22%2C%20%22detectRetina%22%3A%20false%2C%20%22maxNativeZoom%22%3A%2018%2C%20%22maxZoom%22%3A%2018%2C%20%22minZoom%22%3A%200%2C%20%22noWrap%22%3A%20false%2C%20%22opacity%22%3A%201%2C%20%22subdomains%22%3A%20%22abc%22%2C%20%22tms%22%3A%20false%7D%0A%20%20%20%20%20%20%20%20%20%20%20%20%29.addTo%28map_0547301520424d36a55ec0d9b4e0e788%29%3B%0A%20%20%20%20%20%20%20%20%0A%20%20%20%20%0A%20%20%20%20%20%20%20%20%20%20%20%20var%20poly_line_f51d399c2bcb4d66acf46179ec9ca5f3%20%3D%20L.polyline%28%0A%20%20%20%20%20%20%20%20%20%20%20%20%20%20%20%20%5B%5B37.874178%2C%20-122.259682%5D%2C%20%5B51.397733%2C%200.117069%5D%2C%20%5B-37.876469%2C%20145.052724%5D%2C%20%5B37.872372%2C%20-122.260878%5D%5D%2C%0A%20%20%20%20%20%20%20%20%20%20%20%20%20%20%20%20%7B%22bubblingMouseEvents%22%3A%20true%2C%20%22color%22%3A%20%22%23CF3732%22%2C%20%22dashArray%22%3A%20null%2C%20%22dashOffset%22%3A%20null%2C%20%22fill%22%3A%20false%2C%20%22fillColor%22%3A%20%22%23CF3732%22%2C%20%22fillOpacity%22%3A%200.2%2C%20%22fillRule%22%3A%20%22evenodd%22%2C%20%22lineCap%22%3A%20%22round%22%2C%20%22lineJoin%22%3A%20%22round%22%2C%20%22noClip%22%3A%20false%2C%20%22opacity%22%3A%200.7%2C%20%22smoothFactor%22%3A%201.0%2C%20%22stroke%22%3A%20true%2C%20%22weight%22%3A%203%7D%0A%20%20%20%20%20%20%20%20%20%20%20%20%29.addTo%28map_0547301520424d36a55ec0d9b4e0e788%29%3B%0A%20%20%20%20%20%20%20%20%0A%20%20%20%20%0A%20%20%20%20%20%20%20%20%20%20%20%20var%20regular_polygon_marker_a270c02afdbf42da9e0f082d9f705f6d%20%3D%20new%20L.RegularPolygonMarker%28%0A%20%20%20%20%20%20%20%20%20%20%20%20%20%20%20%20%5B37.874178%2C%20-122.259682%5D%2C%0A%20%20%20%20%20%20%20%20%20%20%20%20%20%20%20%20%7B%22bubblingMouseEvents%22%3A%20true%2C%20%22color%22%3A%20%22%230072BB%22%2C%20%22dashArray%22%3A%20null%2C%20%22dashOffset%22%3A%20null%2C%20%22fill%22%3A%20true%2C%20%22fillColor%22%3A%20%22%230072BB%22%2C%20%22fillOpacity%22%3A%200.2%2C%20%22fillRule%22%3A%20%22evenodd%22%2C%20%22lineCap%22%3A%20%22round%22%2C%20%22lineJoin%22%3A%20%22round%22%2C%20%22numberOfSides%22%3A%204%2C%20%22opacity%22%3A%201.0%2C%20%22radius%22%3A%205%2C%20%22rotation%22%3A%2045%2C%20%22stroke%22%3A%20true%2C%20%22weight%22%3A%203%7D%0A%20%20%20%20%20%20%20%20%20%20%20%20%29.addTo%28map_0547301520424d36a55ec0d9b4e0e788%29%3B%0A%20%20%20%20%20%20%20%20%0A%20%20%20%20%0A%20%20%20%20%20%20%20%20var%20popup_8b5ee259b5a84c61a9a14f35b13eb472%20%3D%20L.popup%28%7B%22maxWidth%22%3A%20%22100%25%22%7D%29%3B%0A%0A%20%20%20%20%20%20%20%20%0A%20%20%20%20%20%20%20%20%20%20%20%20var%20html_80b61fc4c4534a128194df6ce420f17c%20%3D%20%24%28%60%3Cdiv%20id%3D%22html_80b61fc4c4534a128194df6ce420f17c%22%20style%3D%22width%3A%20100.0%25%3B%20height%3A%20100.0%25%3B%22%3EStep%200/3%20%3Ca%20href%3Dhttps%3A//w3w.co/desks.fish.sleepy%3E///desks.fish.sleepy%3C/a%3E%3C/div%3E%60%29%5B0%5D%3B%0A%20%20%20%20%20%20%20%20%20%20%20%20popup_8b5ee259b5a84c61a9a14f35b13eb472.setContent%28html_80b61fc4c4534a128194df6ce420f17c%29%3B%0A%20%20%20%20%20%20%20%20%0A%0A%20%20%20%20%20%20%20%20regular_polygon_marker_a270c02afdbf42da9e0f082d9f705f6d.bindPopup%28popup_8b5ee259b5a84c61a9a14f35b13eb472%29%0A%20%20%20%20%20%20%20%20%3B%0A%0A%20%20%20%20%20%20%20%20%0A%20%20%20%20%0A%20%20%20%20%0A%20%20%20%20%20%20%20%20%20%20%20%20var%20regular_polygon_marker_35503074f90445288f7fb5e698f5c68a%20%3D%20new%20L.RegularPolygonMarker%28%0A%20%20%20%20%20%20%20%20%20%20%20%20%20%20%20%20%5B51.397733%2C%200.117069%5D%2C%0A%20%20%20%20%20%20%20%20%20%20%20%20%20%20%20%20%7B%22bubblingMouseEvents%22%3A%20true%2C%20%22color%22%3A%20%22%23CF3732%22%2C%20%22dashArray%22%3A%20null%2C%20%22dashOffset%22%3A%20null%2C%20%22fill%22%3A%20true%2C%20%22fillColor%22%3A%20%22%23CF3732%22%2C%20%22fillOpacity%22%3A%200.2%2C%20%22fillRule%22%3A%20%22evenodd%22%2C%20%22lineCap%22%3A%20%22round%22%2C%20%22lineJoin%22%3A%20%22round%22%2C%20%22numberOfSides%22%3A%204%2C%20%22opacity%22%3A%201.0%2C%20%22radius%22%3A%205%2C%20%22rotation%22%3A%2045%2C%20%22stroke%22%3A%20true%2C%20%22weight%22%3A%203%7D%0A%20%20%20%20%20%20%20%20%20%20%20%20%29.addTo%28map_0547301520424d36a55ec0d9b4e0e788%29%3B%0A%20%20%20%20%20%20%20%20%0A%20%20%20%20%0A%20%20%20%20%20%20%20%20var%20popup_6c81d3b9b359452e85ed3ebef82f0e17%20%3D%20L.popup%28%7B%22maxWidth%22%3A%20%22100%25%22%7D%29%3B%0A%0A%20%20%20%20%20%20%20%20%0A%20%20%20%20%20%20%20%20%20%20%20%20var%20html_a5f3f7edaebf4af897fabfb93969852c%20%3D%20%24%28%60%3Cdiv%20id%3D%22html_a5f3f7edaebf4af897fabfb93969852c%22%20style%3D%22width%3A%20100.0%25%3B%20height%3A%20100.0%25%3B%22%3EStep%201/3%20%3Ca%20href%3Dhttps%3A//w3w.co/gets.fish.sleepy%3E///gets.fish.sleepy%3C/a%3E%3C/div%3E%60%29%5B0%5D%3B%0A%20%20%20%20%20%20%20%20%20%20%20%20popup_6c81d3b9b359452e85ed3ebef82f0e17.setContent%28html_a5f3f7edaebf4af897fabfb93969852c%29%3B%0A%20%20%20%20%20%20%20%20%0A%0A%20%20%20%20%20%20%20%20regular_polygon_marker_35503074f90445288f7fb5e698f5c68a.bindPopup%28popup_6c81d3b9b359452e85ed3ebef82f0e17%29%0A%20%20%20%20%20%20%20%20%3B%0A%0A%20%20%20%20%20%20%20%20%0A%20%20%20%20%0A%20%20%20%20%0A%20%20%20%20%20%20%20%20%20%20%20%20var%20regular_polygon_marker_4aaf54267d484495b62e57aa1107d40f%20%3D%20new%20L.RegularPolygonMarker%28%0A%20%20%20%20%20%20%20%20%20%20%20%20%20%20%20%20%5B-37.876469%2C%20145.052724%5D%2C%0A%20%20%20%20%20%20%20%20%20%20%20%20%20%20%20%20%7B%22bubblingMouseEvents%22%3A%20true%2C%20%22color%22%3A%20%22%23CF3732%22%2C%20%22dashArray%22%3A%20null%2C%20%22dashOffset%22%3A%20null%2C%20%22fill%22%3A%20true%2C%20%22fillColor%22%3A%20%22%23CF3732%22%2C%20%22fillOpacity%22%3A%200.2%2C%20%22fillRule%22%3A%20%22evenodd%22%2C%20%22lineCap%22%3A%20%22round%22%2C%20%22lineJoin%22%3A%20%22round%22%2C%20%22numberOfSides%22%3A%204%2C%20%22opacity%22%3A%201.0%2C%20%22radius%22%3A%205%2C%20%22rotation%22%3A%2045%2C%20%22stroke%22%3A%20true%2C%20%22weight%22%3A%203%7D%0A%20%20%20%20%20%20%20%20%20%20%20%20%29.addTo%28map_0547301520424d36a55ec0d9b4e0e788%29%3B%0A%20%20%20%20%20%20%20%20%0A%20%20%20%20%0A%20%20%20%20%20%20%20%20var%20popup_88e16eee56854c64869533c7571b9f16%20%3D%20L.popup%28%7B%22maxWidth%22%3A%20%22100%25%22%7D%29%3B%0A%0A%20%20%20%20%20%20%20%20%0A%20%20%20%20%20%20%20%20%20%20%20%20var%20html_5e8b9e17c4ba465ebc6d29e8226b6179%20%3D%20%24%28%60%3Cdiv%20id%3D%22html_5e8b9e17c4ba465ebc6d29e8226b6179%22%20style%3D%22width%3A%20100.0%25%3B%20height%3A%20100.0%25%3B%22%3EStep%202/3%20%3Ca%20href%3Dhttps%3A//w3w.co/gets.pack.sleepy%3E///gets.pack.sleepy%3C/a%3E%3C/div%3E%60%29%5B0%5D%3B%0A%20%20%20%20%20%20%20%20%20%20%20%20popup_88e16eee56854c64869533c7571b9f16.setContent%28html_5e8b9e17c4ba465ebc6d29e8226b6179%29%3B%0A%20%20%20%20%20%20%20%20%0A%0A%20%20%20%20%20%20%20%20regular_polygon_marker_4aaf54267d484495b62e57aa1107d40f.bindPopup%28popup_88e16eee56854c64869533c7571b9f16%29%0A%20%20%20%20%20%20%20%20%3B%0A%0A%20%20%20%20%20%20%20%20%0A%20%20%20%20%0A%20%20%20%20%0A%20%20%20%20%20%20%20%20%20%20%20%20var%20regular_polygon_marker_9b19570141e14a28853192752373c954%20%3D%20new%20L.RegularPolygonMarker%28%0A%20%20%20%20%20%20%20%20%20%20%20%20%20%20%20%20%5B37.872372%2C%20-122.260878%5D%2C%0A%20%20%20%20%20%20%20%20%20%20%20%20%20%20%20%20%7B%22bubblingMouseEvents%22%3A%20true%2C%20%22color%22%3A%20%22%23e4cc37%22%2C%20%22dashArray%22%3A%20null%2C%20%22dashOffset%22%3A%20null%2C%20%22fill%22%3A%20true%2C%20%22fillColor%22%3A%20%22%23e4cc37%22%2C%20%22fillOpacity%22%3A%200.2%2C%20%22fillRule%22%3A%20%22evenodd%22%2C%20%22lineCap%22%3A%20%22round%22%2C%20%22lineJoin%22%3A%20%22round%22%2C%20%22numberOfSides%22%3A%204%2C%20%22opacity%22%3A%201.0%2C%20%22radius%22%3A%205%2C%20%22rotation%22%3A%2045%2C%20%22stroke%22%3A%20true%2C%20%22weight%22%3A%203%7D%0A%20%20%20%20%20%20%20%20%20%20%20%20%29.addTo%28map_0547301520424d36a55ec0d9b4e0e788%29%3B%0A%20%20%20%20%20%20%20%20%0A%20%20%20%20%0A%20%20%20%20%20%20%20%20var%20popup_105a562f71db467396d592d89a628099%20%3D%20L.popup%28%7B%22maxWidth%22%3A%20%22100%25%22%7D%29%3B%0A%0A%20%20%20%20%20%20%20%20%0A%20%20%20%20%20%20%20%20%20%20%20%20var%20html_a01f6510ec3546a79386809074816d4c%20%3D%20%24%28%60%3Cdiv%20id%3D%22html_a01f6510ec3546a79386809074816d4c%22%20style%3D%22width%3A%20100.0%25%3B%20height%3A%20100.0%25%3B%22%3EStep%203/3%20%3Ca%20href%3Dhttps%3A//w3w.co/gets.packet.text%3E///gets.packet.text%3C/a%3E%3C/div%3E%60%29%5B0%5D%3B%0A%20%20%20%20%20%20%20%20%20%20%20%20popup_105a562f71db467396d592d89a628099.setContent%28html_a01f6510ec3546a79386809074816d4c%29%3B%0A%20%20%20%20%20%20%20%20%0A%0A%20%20%20%20%20%20%20%20regular_polygon_marker_9b19570141e14a28853192752373c954.bindPopup%28popup_105a562f71db467396d592d89a628099%29%0A%20%20%20%20%20%20%20%20%3B%0A%0A%20%20%20%20%20%20%20%20%0A%20%20%20%20%0A%3C/script%3E onload=\"this.contentDocument.open();this.contentDocument.write(    decodeURIComponent(this.getAttribute('data-html')));this.contentDocument.close();\" allowfullscreen webkitallowfullscreen mozallowfullscreen></iframe></div></div>"
      ],
      "text/plain": [
       "<folium.folium.Map at 0x7ffba348c710>"
      ]
     },
     "execution_count": 12,
     "metadata": {},
     "output_type": "execute_result"
    }
   ],
   "source": [
    "m2, df2 = edit_distance_map(steps2)\n",
    "m2"
   ]
  },
  {
   "cell_type": "code",
   "execution_count": 13,
   "id": "1c308fb5",
   "metadata": {},
   "outputs": [],
   "source": [
    "#m2.save(\"mccone-moffitt.html\")"
   ]
  }
 ],
 "metadata": {
  "kernelspec": {
   "display_name": "Python 3",
   "language": "python",
   "name": "python3"
  },
  "language_info": {
   "codemirror_mode": {
    "name": "ipython",
    "version": 3
   },
   "file_extension": ".py",
   "mimetype": "text/x-python",
   "name": "python",
   "nbconvert_exporter": "python",
   "pygments_lexer": "ipython3",
   "version": "3.7.3"
  }
 },
 "nbformat": 4,
 "nbformat_minor": 5
}
